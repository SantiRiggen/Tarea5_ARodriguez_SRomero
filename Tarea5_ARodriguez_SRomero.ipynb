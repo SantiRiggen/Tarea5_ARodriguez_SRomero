{
 "cells": [
  {
   "cell_type": "markdown",
   "metadata": {},
   "source": [
    "<img style=\"float: left; margin: 30px 15px 15px 15px;\" src=\"https://pngimage.net/wp-content/uploads/2018/06/logo-iteso-png-5.png\" width=\"300\" height=\"500\" /> \n",
    "    \n",
    "    \n",
    "### <font color='navy'> Simulación de procesos financieros. \n",
    "\n",
    "**Nombres:** Ana Esmeralda Rodríguez Rodríguez, Santiago Romero Riggen.\n",
    "\n",
    "**Fecha:** 21 de junio del 2021.\n",
    "\n",
    "**Expediente** : 709288, 715099.\n",
    "\n",
    "**Profesor:** Oscar David Jaramillo Zuluaga.\n",
    "    \n",
    "**Link Github**: [Link con el enlace del repositorio del creador del proyecto](https://github.com/anarodriguezrod/Tarea5_ARodriguez_SRomero)\n",
    "\n",
    "# Tarea 5: Clase 9"
   ]
  },
  {
   "cell_type": "markdown",
   "metadata": {},
   "source": [
    "    \n",
    "> Para las siguiente dos funciones, genere muestres aleatorias que distribuyan según la función dada usando el método de la transformada inversa y grafique el histograma de 1000 muestras generadas con el método de la transformada inversa y compárela con el función $f(x)$ **(recuerde que $f(x)$ es la distribución de probabilidad y $F(x)$ es la distribución de probabilidad acumulada)** [ver este enlace para más información](https://es.wikipedia.org/wiki/Funci%C3%B3n_de_distribuci%C3%B3n). Este procedimiento se realiza con el fín de validar que el procedimiento y los resultados son correctos.\n",
    "    \n",
    "> 1. Generación variable aleatoria continua\n",
    ">El tiempo en el cual un movimiento browniano se mantiene sobre su punto máximo en el intervalo [0,1] tiene una distribución\n",
    ">$$F(x)=\\frac{2}{\\pi}\\sin^{-1}(\\sqrt x),\\quad 0\\leq x\\leq 1$$ </font>\n",
    "\n",
    "> 2. Generación variable aleatoria Discreta\n",
    "> La distribución binomial modela el número de éxitos de n ensayos independientes donde hay una probabilidad p de éxito en cada ensayo.\n",
    "> Generar una variable aletoria binomial con parámetros $n=10$ y $p=0.7$. Recordar que $$X\\sim binomial(n,p) \\longrightarrow p_i=P(X=i)=\\frac{n!}{i!(n-i)!}p^i(1-p)^{n-i},\\quad i=0,1,\\cdots,n$$\n",
    "> Por propiedades de la operación factorial la anterior $p_i$ se puede escribir como:\n",
    "> $$p_{i+1}=\\frac{n-i}{i+1}\\frac{p}{1-p} p_i $$\n",
    "\n",
    "> **Nota:** Por notación recuerde que para el caso continuo $f(x)$ es la distribución de probabilidad (PDF), mientras $F(x)$ corresponde a la distribución de probabilidad acumulada (CDF). Para el caso discreto, $P(X=i)$ corresponde a su distribución de probabilidad (PMF) y $ F_{X}(x)=\\operatorname {P} (X\\leq x)=\\sum _{x_{i}\\leq x}\\operatorname {P} (X=x_{i})=\\sum _{x_{i}\\leq x}p(x_{i})$, corresponde a su distribución de probabilidad acumulada (CDF).\n",
    "\n"
   ]
  },
  {
   "cell_type": "code",
   "execution_count": 4,
   "metadata": {},
   "outputs": [],
   "source": [
    "#Librerias \n",
    "\n",
    "import matplotlib.pyplot as plt\n",
    "import numpy as np\n",
    "%matplotlib inline\n",
    "from scipy import optimize\n",
    "import random\n",
    "from scipy import optimize\n",
    "import pandas as pd"
   ]
  },
  {
   "cell_type": "markdown",
   "metadata": {},
   "source": [
    "#### Ejercicio 1: Ana Rodríguez"
   ]
  },
  {
   "cell_type": "markdown",
   "metadata": {},
   "source": [
    "#### Obtener la función inversa \n",
    "> 1. Igualar $F(x)=U$\n",
    ">$$\\frac{2}{\\pi}\\sin^{-1}(\\sqrt x) = U,\\quad 0\\leq x\\leq 1$$ </font>\n",
    "\n",
    "> 2. Despejar $x = F^{-1}(U)$\n",
    ">$$x =sin^{2}{\\frac{U\\pi}{2}}$$ </font>\n",
    "\n",
    "#### Para comparar\n",
    "> 1. Deriva para obtener la función de distribución $f(x)=\\frac{dF(x)}{dx}$\n",
    ">$$\\frac{d}{dx}=\\frac{1}{\\pi\\sqrt{1-x}\\sqrt{x}}$$ "
   ]
  },
  {
   "cell_type": "code",
   "execution_count": 6,
   "metadata": {},
   "outputs": [],
   "source": [
    "def Dist_1(N: 'Cantidad de datos que generar'):\n",
    "    '''Generar variables aleatorias que distribuyen como f(x)'''\n",
    "    U = np.random.rand(N)\n",
    "    y = (np.sin((U*np.pi)/2))**2 #La función inversa que se obtuvo\n",
    "    return y "
   ]
  },
  {
   "cell_type": "code",
   "execution_count": 7,
   "metadata": {},
   "outputs": [
    {
     "data": {
      "image/png": "[encoded data removed]",
      "text/plain": [
       "<Figure size 432x288 with 1 Axes>"
      ]
     },
     "metadata": {
      "needs_background": "light"
     },
     "output_type": "display_data"
    }
   ],
   "source": [
    "N = 1000\n",
    "y = Dist_1(N) \n",
    "\n",
    "plt.hist(y, bins = 50, density = True, label = 'Distribución movimiento Browniano en su punto maximo')\n",
    "plt.legend()\n",
    "plt.show()"
   ]
  },
  {
   "cell_type": "code",
   "execution_count": 8,
   "metadata": {},
   "outputs": [
    {
     "name": "stderr",
     "output_type": "stream",
     "text": [
      "/Users/anarodriguez/opt/anaconda3/lib/python3.7/site-packages/ipykernel_launcher.py:3: RuntimeWarning: divide by zero encountered in true_divide\n",
      "  This is separate from the ipykernel package so we can avoid doing imports until\n"
     ]
    },
    {
     "data": {
      "image/png": "[encoded data removed]",
      "text/plain": [
       "<Figure size 432x288 with 1 Axes>"
      ]
     },
     "metadata": {
      "needs_background": "light"
     },
     "output_type": "display_data"
    }
   ],
   "source": [
    "# Comparación\n",
    "x = np.arange(0,1,0.01)\n",
    "y2 = 1/(np.pi*np.sqrt(1-x)*np.sqrt(x))\n",
    "plt.plot(x,y2,'r', label = 'f(x)')\n",
    "\n",
    "N = 1000\n",
    "y = Dist_1(N) \n",
    "plt.hist(y, bins = 50, density = True, label = 'Distribución movimiento Browniano en su punto maximo')\n",
    "plt.legend()\n",
    "plt.show() "
   ]
  },
  {
   "cell_type": "markdown",
   "metadata": {},
   "source": [
    "#### Ejercicio 1: Santiago Romero"
   ]
  },
  {
   "cell_type": "code",
   "execution_count": 1,
   "metadata": {},
   "outputs": [],
   "source": [
    "# Derivada de F(x)\n",
    "f = lambda x: 1 / (((1-x)**.5)*(((x)**.5)*(np.pi)))\n",
    "# Inversa de F(x) igualando a U\n",
    "inversa = lambda u: np.sin((np.pi * u) / 2)**2"
   ]
  },
  {
   "cell_type": "code",
   "execution_count": 6,
   "metadata": {},
   "outputs": [],
   "source": [
    "def aleatorios(f, inversa, n):\n",
    "    u = np.random.uniform(0, 1, n)\n",
    "    f_aleat = inversa(u)\n",
    "    x = np.arange(.05, .95, .01)\n",
    "    f_dens = f(x)\n",
    "    plt.hist(f_aleat, bins=40, density = True)\n",
    "    plt.plot(x, f_dens)\n",
    "    plt.show()\n",
    "n = 10000"
   ]
  },
  {
   "cell_type": "code",
   "execution_count": 7,
   "metadata": {},
   "outputs": [
    {
     "data": {
      "image/png": "[encoded data removed]",
      "text/plain": [
       "<Figure size 432x288 with 1 Axes>"
      ]
     },
     "metadata": {
      "needs_background": "light"
     },
     "output_type": "display_data"
    }
   ],
   "source": [
    "aleatorios(f, inversa, n)"
   ]
  },
  {
   "cell_type": "markdown",
   "metadata": {},
   "source": [
    "#### Ejercicio 2: Ana Rodríguez"
   ]
  },
  {
   "cell_type": "code",
   "execution_count": 13,
   "metadata": {},
   "outputs": [],
   "source": [
    "# Función que calcula la probabilidad acumulada \n",
    "def Dist_Binomial_acum(n:'Parámetro n',\n",
    "                  p: 'Parámetro p'):\n",
    "    ''' Esta función calcula la probabilidad acumulada'''\n",
    "    vec_prob = np.zeros(n) # vector de ceros\n",
    "    vec_prob[0] = (1-p)**n #valor inicial del vector\n",
    "    def llenar_vec_prob(i):\n",
    "        nonlocal vec_prob #se encarga de llenar el vector\n",
    "        c  = p/(1-p)\n",
    "        vec_prob[i+1]=(c*(n-i)/(i+1))*vec_prob[i]\n",
    "        \n",
    "    # Lleno el vector Pr usando compresión de listas\n",
    "    [llenar_vec_prob(i) for i in range(n-1)] #la llamo iterativamente\n",
    "    return np.cumsum(vec_prob) #retorno la probabilidad acumulada"
   ]
  },
  {
   "cell_type": "code",
   "execution_count": 14,
   "metadata": {},
   "outputs": [],
   "source": [
    "def Gen_distr_discreta(p_acum: 'P.Acumulada de la distribución a generar',\n",
    "                       indices: 'valores reales a generar aleatoriamente',\n",
    "                       N: 'cantidad de números aleatorios a generar'):\n",
    "    \n",
    "    U = np.random.rand(N)\n",
    "    # Diccionario de valores aleatorios\n",
    "    rand2reales = {i: idx for i, idx in enumerate(indices)}\n",
    "\n",
    "    # Series de los valores aletorios\n",
    "    y = pd.Series([sum([1 for p in p_acum if p < ui]) for ui in U]).map(rand2reales)\n",
    "\n",
    "    return y\n",
    "\n",
    "def plot_histogram_discrete(distribucion:'señal de varibles aleatorias de un distribución DISCRETA dada',\n",
    "                            label:'label del legend a aparecer en el gráfica',\n",
    "                            densidad:'por defecto regresa el histograma en densidad'=True):\n",
    "    # len(set(distribucion)) cuenta la cantidad de elementos distintos de la variable 'distribucion'\n",
    "    plt.figure(figsize=[10,4])\n",
    "    y, x = np.histogram(distribucion, bins=len(set(distribucion)), density=densidad) #len(set(distribucion)) me dice cuantos valores diferentes hay en distribución ( con lo que hare el numero de barritas)\n",
    "    plt.bar(x[1:], y, label=label)\n",
    "    plt.legend()\n",
    "    plt.show()"
   ]
  },
  {
   "cell_type": "code",
   "execution_count": 15,
   "metadata": {},
   "outputs": [
    {
     "data": {
      "image/png": "[encoded data removed]",
      "text/plain": [
       "<Figure size 720x288 with 1 Axes>"
      ]
     },
     "metadata": {
      "needs_background": "light"
     },
     "output_type": "display_data"
    }
   ],
   "source": [
    "# def D_binomial_intermedia(n,p,N):\n",
    "n = 10; p = 0.7; N = 1000\n",
    "\n",
    "p_acum = Dist_Binomial_acum(n,p)\n",
    "\n",
    "# Usando el método de la transformada inversa\n",
    "d_binomial = Gen_distr_discreta(p_acum, np.arange(0, n+1), N) #np.arange(entre 0 y n+1)\n",
    "plot_histogram_discrete(d_binomial, 'Función creada con transformada inversa')"
   ]
  },
  {
   "cell_type": "code",
   "execution_count": 16,
   "metadata": {},
   "outputs": [
    {
     "data": {
      "image/png": "[encoded data removed]",
      "text/plain": [
       "<Figure size 720x288 with 1 Axes>"
      ]
     },
     "metadata": {
      "needs_background": "light"
     },
     "output_type": "display_data"
    }
   ],
   "source": [
    "# Comparar Usando numpy\n",
    "d_bino_numpy = np.random.binomial(n,p,N)\n",
    "plot_histogram_discrete(d_bino_numpy, 'Función con Numpy')"
   ]
  },
  {
   "cell_type": "markdown",
   "metadata": {},
   "source": [
    "#### Ejercicio 2: Santiago Romero"
   ]
  },
  {
   "cell_type": "code",
   "execution_count": 8,
   "metadata": {},
   "outputs": [],
   "source": [
    "# Solución SRR\n",
    "def distribucion(u: 'vector # aleatorios',\n",
    "                 p_acum: 'P acumulada de la dist'):\n",
    "    v = np.array(list(map(lambda x: sum(1 for i in p_acum if i < u[x]), range(10000))))\n",
    "    return v\n",
    "\n",
    "def histograma(distribucion: 'VA de una distr dada',\n",
    "              densidad:'regresa densidad' = True):\n",
    "    plt.figure()\n",
    "    y, x = np.histogram(distribucion,\n",
    "                        bins=30,\n",
    "                        density=densidad)\n",
    "    plt.bar(x[1:], y)\n",
    "    plt.show()"
   ]
  },
  {
   "cell_type": "code",
   "execution_count": 9,
   "metadata": {},
   "outputs": [],
   "source": [
    "# Se define la función\n",
    "def P_Binom(n, p):\n",
    "    P = np.zeros(n)\n",
    "    P[0] = (1-p)**n\n",
    "    def q(i):\n",
    "        nonlocal P\n",
    "        c = p / (1-p)\n",
    "        P[i+1] = (c*(n-1) / (i+1)) * P[i]\n",
    "    [q(i) for i in range(n-1)]\n",
    "    return np.cumsum(P)"
   ]
  },
  {
   "cell_type": "code",
   "execution_count": 10,
   "metadata": {},
   "outputs": [],
   "source": [
    "p_acu = P_Binom(10, 0.7)\n",
    "u= np.random.rand(10000)\n",
    "#trans inversa\n",
    "d_binom = distribucion(u, p_acu)\n",
    "# numpy\n",
    "np_binomial = np.random.binomial(10, .7, 10000)"
   ]
  },
  {
   "cell_type": "code",
   "execution_count": 12,
   "metadata": {},
   "outputs": [
    {
     "data": {
      "image/png": "[encoded data removed]",
      "text/plain": [
       "<Figure size 432x288 with 1 Axes>"
      ]
     },
     "metadata": {
      "needs_background": "light"
     },
     "output_type": "display_data"
    },
    {
     "data": {
      "image/png": "[encoded data removed]",
      "text/plain": [
       "<Figure size 432x288 with 1 Axes>"
      ]
     },
     "metadata": {
      "needs_background": "light"
     },
     "output_type": "display_data"
    }
   ],
   "source": [
    "#ploteamos los dos histogramas\n",
    "histograma(d_binom)\n",
    "histograma(np_binomial)"
   ]
  }
 ],
 "metadata": {
  "kernelspec": {
   "display_name": "Python 3",
   "language": "python",
   "name": "python3"
  },
  "language_info": {
   "codemirror_mode": {
    "name": "ipython",
    "version": 3
   },
   "file_extension": ".py",
   "mimetype": "text/x-python",
   "name": "python",
   "nbconvert_exporter": "python",
   "pygments_lexer": "ipython3",
   "version": "3.8.8"
  }
 },
 "nbformat": 4,
 "nbformat_minor": 2
}
